{
 "cells": [
  {
   "cell_type": "markdown",
   "id": "2ea47927",
   "metadata": {},
   "source": [
    "# Task 1\n",
    "\n",
    "## Is the next equation correct and why?\n",
    "\n",
    "### the mass of (VAKA) = mass(V) + mass(A) + mass(K) + mass(A)"
   ]
  },
  {
   "cell_type": "markdown",
   "id": "9393473d",
   "metadata": {},
   "source": [
    "# Right Hand Side"
   ]
  },
  {
   "cell_type": "code",
   "execution_count": 2,
   "id": "a3e13bd9",
   "metadata": {},
   "outputs": [
    {
     "name": "stdout",
     "output_type": "stream",
     "text": [
      "Valine : 117.0789793509\n",
      "Alanine : 89.0476792233\n",
      "Lysine : 146.1055284466\n",
      "Alanine : 89.0476792233\n",
      "\n",
      "mass(V) + mass(A) + mass(K) + mass(A) = 441.2798662441 g/mol\n"
     ]
    }
   ],
   "source": [
    "from pyopenms import *\n",
    "\n",
    "# the summation of the sequence amino acids individually.\n",
    "seq_sum = 0\n",
    "\n",
    "# create AASequence object from string representation.\n",
    "seq = AASequence.fromString(\"VAKA\")\n",
    "\n",
    "# The AASequence object allows iterations directly in Python:\n",
    "for aa in seq:\n",
    "    seq_sum += aa.getMonoWeight()\n",
    "    print(aa.getName(), \":\", aa.getMonoWeight())\n",
    "\n",
    "print()\n",
    "print(\"mass(V) + mass(A) + mass(K) + mass(A) =\", seq_sum, \"g/mol\")\n",
    "    "
   ]
  },
  {
   "cell_type": "markdown",
   "id": "c29c8b5f",
   "metadata": {},
   "source": [
    "### How to calculate protein molecular weight from the sequence?\n",
    "\n",
    "#### It's just as simple as it seems:-\n",
    "\n",
    "#### -> Step 1: Add together all the molecular weights of the amino acids present in your sequence. \n",
    "#### -> Step 2: You also need to subtract the molecular weight of water for every bond created.\n",
    "\n",
    "### Why do we need to subtract the water's weight? \n",
    "\n",
    "#### With every peptide bond formed between two amino acids, a particle of water is created and expelled. It does not longer constitute a part of the protein.\n",
    "\n",
    "### We used the following formula in our amino acid calculator for molecular weight:\n",
    "\n",
    "#### Protein MW = Aminoacid MW.1 +... Aminoacid MW.n -(18.0153 * (n-1))\n",
    "\n",
    "#### Where:\n",
    "\n",
    "#### -> n - a total number of used amino acids.\n",
    "#### -> (18.0153) - is the molecular weight of water.\n",
    "#### -> If you use 2 amino acids in total, you need to subtract 18.02 u.\n",
    "\n",
    "#### If you use 45 aminoacids in total, you need to subtract 44 * 18.02 u = 792.88 u. "
   ]
  },
  {
   "cell_type": "markdown",
   "id": "d4150d83",
   "metadata": {},
   "source": [
    "# Left Hand Side"
   ]
  },
  {
   "cell_type": "code",
   "execution_count": 5,
   "id": "7fa2efac",
   "metadata": {},
   "outputs": [
    {
     "name": "stdout",
     "output_type": "stream",
     "text": [
      "Mass of(VAKA) = 387.2481710527 g/mol\n"
     ]
    }
   ],
   "source": [
    "print('Mass of(VAKA) =', seq.getMonoWeight(), 'g/mol')"
   ]
  },
  {
   "cell_type": "markdown",
   "id": "3a6336a1",
   "metadata": {},
   "source": [
    "## (387.2481710527 g/mol) != (441.2798662441 g/mol)"
    "## Then   ->   LHS != RHS"
   ]
  }
 ],
 "metadata": {
  "kernelspec": {
   "display_name": "Python 3",
   "language": "python",
   "name": "python3"
  },
  "language_info": {
   "codemirror_mode": {
    "name": "ipython",
    "version": 3
   },
   "file_extension": ".py",
   "mimetype": "text/x-python",
   "name": "python",
   "nbconvert_exporter": "python",
   "pygments_lexer": "ipython3",
   "version": "3.8.8"
  }
 },
 "nbformat": 4,
 "nbformat_minor": 5
}
